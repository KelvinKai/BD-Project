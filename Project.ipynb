{
 "cells": [
  {
   "cell_type": "code",
   "execution_count": 9,
   "metadata": {},
   "outputs": [],
   "source": [
    "#!pip install pyspark"
   ]
  },
  {
   "cell_type": "code",
   "execution_count": 1,
   "metadata": {},
   "outputs": [],
   "source": [
    "#spark sql imports\n",
    "from pyspark.sql import SparkSession\n",
    "from pyspark.sql import functions as F\n",
    "from pyspark.sql import Row\n",
    "from pyspark.sql.functions import UserDefinedFunction\n",
    "from pyspark.sql.types import *\n",
    "\n",
    "import matplotlib.pyplot as plt\n",
    "%matplotlib inline"
   ]
  },
  {
   "cell_type": "code",
   "execution_count": 2,
   "metadata": {},
   "outputs": [],
   "source": [
    "#spark ML imports\n",
    "from pyspark.ml import Pipeline\n",
    "from pyspark.ml.classification import LogisticRegression\n",
    "from pyspark.ml.feature import HashingTF, Tokenizer, StringIndexer, CountVectorizer, IDF\n",
    "from pyspark.ml.tuning import CrossValidator, ParamGridBuilder\n",
    "from pyspark.ml.evaluation import BinaryClassificationEvaluator, MulticlassClassificationEvaluator"
   ]
  },
  {
   "cell_type": "code",
   "execution_count": null,
   "metadata": {},
   "outputs": [],
   "source": [
    "import os\n",
    "os.getcwd()"
   ]
  },
  {
   "cell_type": "code",
   "execution_count": 5,
   "metadata": {},
   "outputs": [
    {
     "data": {
      "text/plain": [
       "[('spark.driver.memory', '4g'),\n",
       " ('spark.executor.memory', '4g'),\n",
       " ('spark.executor.id', 'driver'),\n",
       " ('spark.app.id', 'local-1582732507476'),\n",
       " ('spark.executor.cores', '4'),\n",
       " ('spark.cores.max', '4'),\n",
       " ('spark.driver.port', '50496'),\n",
       " ('spark.app.name', 'Spark Updated Conf'),\n",
       " ('spark.rdd.compress', 'True'),\n",
       " ('spark.serializer.objectStreamReset', '100'),\n",
       " ('spark.driver.host', 'LAPTOP-67Q35R8F.mshome.net'),\n",
       " ('spark.master', 'local[*]'),\n",
       " ('spark.submit.deployMode', 'client'),\n",
       " ('spark.ui.showConsoleProgress', 'true')]"
      ]
     },
     "execution_count": 5,
     "metadata": {},
     "output_type": "execute_result"
    }
   ],
   "source": [
    "spark = SparkSession.builder.appName('PUBG').getOrCreate()\n",
    "\n",
    "#change configuration settings on Spark \n",
    "conf = spark.sparkContext._conf.setAll([('spark.executor.memory', '4g'), ('spark.app.name', 'Spark Updated Conf'), ('spark.executor.cores', '4'), ('spark.cores.max', '4'), ('spark.driver.memory','4g')])\n",
    "# the 4g is the total mun of the memory 4g * 4 executor = 16g\n",
    "\n",
    "\n",
    "#print spark configuration settings\n",
    "spark.sparkContext.getConf().getAll()"
   ]
  },
  {
   "cell_type": "code",
   "execution_count": 6,
   "metadata": {},
   "outputs": [
    {
     "data": {
      "text/html": [
       "\n",
       "        <div>\n",
       "            <p><b>SparkContext</b></p>\n",
       "\n",
       "            <p><a href=\"http://LAPTOP-67Q35R8F.mshome.net:4041\">Spark UI</a></p>\n",
       "\n",
       "            <dl>\n",
       "              <dt>Version</dt>\n",
       "                <dd><code>v2.4.5</code></dd>\n",
       "              <dt>Master</dt>\n",
       "                <dd><code>local[*]</code></dd>\n",
       "              <dt>AppName</dt>\n",
       "                <dd><code>ChicagoFoodInspectionML</code></dd>\n",
       "            </dl>\n",
       "        </div>\n",
       "        "
      ],
      "text/plain": [
       "<SparkContext master=local[*] appName=ChicagoFoodInspectionML>"
      ]
     },
     "execution_count": 6,
     "metadata": {},
     "output_type": "execute_result"
    }
   ],
   "source": [
    "spark.sparkContext"
   ]
  },
  {
   "cell_type": "markdown",
   "metadata": {},
   "source": [
    "## Load Data"
   ]
  },
  {
   "cell_type": "markdown",
   "metadata": {},
   "source": [
    "In aggregate, each match's meta information and player statistics are summarized (as provided by pubg). It includes various aggregate statistics such as player kills, damage, distance walked, etc as well as metadata on the match itself such as queue size, fpp/tpp, date, etc."
   ]
  },
  {
   "cell_type": "code",
   "execution_count": 144,
   "metadata": {},
   "outputs": [],
   "source": [
    "#match = spark.read.csv(\"C:/Users/kailf/Python_code/UChicago/Big_Data/Project/match_stats_0.csv\", inferSchema=True,header=True)\n",
    "agg0 = spark.read.csv('agg/agg_match_stats_0.csv', inferSchema=True, header=True)\n",
    "agg1 = spark.read.csv('agg/agg_match_stats_1.csv', inferSchema=True, header=True)\n",
    "agg2 = spark.read.csv('agg/agg_match_stats_2.csv', inferSchema=True, header=True)\n",
    "agg3 = spark.read.csv('agg/agg_match_stats_3.csv', inferSchema=True, header=True)\n",
    "agg4 = spark.read.csv('agg/agg_match_stats_4.csv', inferSchema=True, header=True)\n",
    "match = agg0.union(agg1)\n",
    "match = match.union(agg2)\n",
    "match = match.union(agg3)\n",
    "match = match.union(agg4)\n",
    "\n",
    "\n"
   ]
  },
  {
   "cell_type": "markdown",
   "metadata": {},
   "source": [
    "In deaths, the files record every death that occurred within the 720k matches. That is, each row documents an event where a player has died in the match."
   ]
  },
  {
   "cell_type": "code",
   "execution_count": 10,
   "metadata": {},
   "outputs": [],
   "source": [
    "#kill = spark.read.csv(\"C:/Users/kailf/Python_code/UChicago/Big_Data/Project/kill_stats_final_0.csv\",inferSchema=True, header=True)\n",
    "kil0 = spark.read.csv('deaths/kill_match_stats_final_0.csv', inferSchema=True, header=True)\n",
    "kil1 = spark.read.csv('deaths/kill_match_stats_final_1.csv', inferSchema=True, header=True)\n",
    "kil2 = spark.read.csv('deaths/kill_match_stats_final_2.csv', inferSchema=True, header=True)\n",
    "kil3 = spark.read.csv('deaths/kill_match_stats_final_3.csv', inferSchema=True, header=True)\n",
    "kil4 = spark.read.csv('deaths/kill_match_stats_final_4.csv', inferSchema=True, header=True)\n",
    "kill = kil0.union(kil1)\n",
    "kill = kill.union(kil2)\n",
    "kill = kill.union(kil3)\n",
    "kill = kill.union(kil4)\n",
    "\n",
    "\n",
    "\n"
   ]
  },
  {
   "cell_type": "code",
   "execution_count": 135,
   "metadata": {},
   "outputs": [
    {
     "name": "stdout",
     "output_type": "stream",
     "text": [
      "+---------+----------------+----------------+-----------------+-----------------+-------+--------------------+----+---------------+----------------+-----------------+-----------------+\n",
      "|killed_by|     killer_name|killer_placement|killer_position_x|killer_position_y|    map|            match_id|time|    victim_name|victim_placement|victim_position_x|victim_position_y|\n",
      "+---------+----------------+----------------+-----------------+-----------------+-------+--------------------+----+---------------+----------------+-----------------+-----------------+\n",
      "|  Grenade| KrazyPortuguese|             5.0|         657725.1|         146275.2|MIRAMAR|2U4GBNA0YmnLSqvEy...| 823|KrazyPortuguese|             5.0|         657725.1|         146275.2|\n",
      "|   SCAR-L|nide2Bxiaojiejie|            31.0|         93091.37|         722236.4|MIRAMAR|2U4GBNA0YmnLSqvEy...| 194|    X3evolution|            33.0|         92238.68|         723375.1|\n",
      "|     S686|        Ascholes|            43.0|         366921.4|         421623.9|MIRAMAR|2U4GBNA0YmnLSqvEy...| 103|        CtrlZee|            46.0|         367304.5|         421216.1|\n",
      "+---------+----------------+----------------+-----------------+-----------------+-------+--------------------+----+---------------+----------------+-----------------+-----------------+\n",
      "only showing top 3 rows\n",
      "\n"
     ]
    }
   ],
   "source": [
    "kill.show(3)"
   ]
  },
  {
   "cell_type": "code",
   "execution_count": 111,
   "metadata": {},
   "outputs": [
    {
     "name": "stdout",
     "output_type": "stream",
     "text": [
      "+--------------------+---------+--------------------+----------+----------+--------------+-----------+----------------+----------------+----------+------------+-----------+-------------------+-------+--------------+\n",
      "|                date|game_size|            match_id|match_mode|party_size|player_assists|player_dbno|player_dist_ride|player_dist_walk|player_dmg|player_kills|player_name|player_survive_time|team_id|team_placement|\n",
      "+--------------------+---------+--------------------+----------+----------+--------------+-----------+----------------+----------------+----------+------------+-----------+-------------------+-------+--------------+\n",
      "|2017-11-26T20:59:...|       37|2U4GBNA0YmnNZYkzj...|       tpp|         2|             0|          1|        2870.724|      1784.84778|       117|           1|   SnuffIes|            1106.32|      4|            18|\n",
      "+--------------------+---------+--------------------+----------+----------+--------------+-----------+----------------+----------------+----------+------------+-----------+-------------------+-------+--------------+\n",
      "only showing top 1 row\n",
      "\n"
     ]
    }
   ],
   "source": [
    "match.show(1)"
   ]
  },
  {
   "cell_type": "code",
   "execution_count": 57,
   "metadata": {},
   "outputs": [],
   "source": [
    "#match = match.withColumn('date', F.regexp_replace('date', \"+0000\", \"\"))"
   ]
  },
  {
   "cell_type": "code",
   "execution_count": 136,
   "metadata": {},
   "outputs": [
    {
     "data": {
      "text/plain": [
       "[Row(date='2017-11-26T20:59:40+0000'),\n",
       " Row(date='2017-11-26T20:59:40+0000'),\n",
       " Row(date='2017-11-26T20:59:40+0000'),\n",
       " Row(date='2017-11-26T20:59:40+0000')]"
      ]
     },
     "execution_count": 136,
     "metadata": {},
     "output_type": "execute_result"
    }
   ],
   "source": [
    "match.select('date').take(4)"
   ]
  },
  {
   "cell_type": "code",
   "execution_count": 147,
   "metadata": {},
   "outputs": [
    {
     "name": "stdout",
     "output_type": "stream",
     "text": [
      "root\n",
      " |-- date: timestamp (nullable = true)\n",
      " |-- game_size: string (nullable = true)\n",
      " |-- match_id: string (nullable = true)\n",
      " |-- match_mode: string (nullable = true)\n",
      " |-- party_size: string (nullable = true)\n",
      " |-- player_assists: string (nullable = true)\n",
      " |-- player_dbno: string (nullable = true)\n",
      " |-- player_dist_ride: string (nullable = true)\n",
      " |-- player_dist_walk: string (nullable = true)\n",
      " |-- player_dmg: string (nullable = true)\n",
      " |-- player_kills: string (nullable = true)\n",
      " |-- player_name: string (nullable = true)\n",
      " |-- player_survive_time: string (nullable = true)\n",
      " |-- team_id: string (nullable = true)\n",
      " |-- team_placement: string (nullable = true)\n",
      "\n"
     ]
    }
   ],
   "source": [
    "match.printSchema()"
   ]
  },
  {
   "cell_type": "code",
   "execution_count": 145,
   "metadata": {},
   "outputs": [],
   "source": [
    "match = match.withColumn(\"date\", F.unix_timestamp(match[\"date\"], \"yyyy-MM-dd'T'HH:mm:ss'+0000'\").cast('timestamp'))"
   ]
  },
  {
   "cell_type": "code",
   "execution_count": 150,
   "metadata": {},
   "outputs": [
    {
     "ename": "NameError",
     "evalue": "name 'time' is not defined",
     "output_type": "error",
     "traceback": [
      "\u001b[1;31m---------------------------------------------------------------------------\u001b[0m",
      "\u001b[1;31mNameError\u001b[0m                                 Traceback (most recent call last)",
      "\u001b[1;32m<ipython-input-150-9457936df216>\u001b[0m in \u001b[0;36m<module>\u001b[1;34m()\u001b[0m\n\u001b[0;32m      3\u001b[0m \u001b[0magg_match\u001b[0m \u001b[1;33m=\u001b[0m \u001b[0magg_match\u001b[0m\u001b[1;33m.\u001b[0m\u001b[0mwithColumn\u001b[0m\u001b[1;33m(\u001b[0m\u001b[1;34m'month'\u001b[0m\u001b[1;33m,\u001b[0m \u001b[0mmonth\u001b[0m\u001b[1;33m(\u001b[0m\u001b[0magg_match\u001b[0m\u001b[1;33m[\u001b[0m\u001b[1;34m'date'\u001b[0m\u001b[1;33m]\u001b[0m\u001b[1;33m)\u001b[0m\u001b[1;33m)\u001b[0m\u001b[1;33m\u001b[0m\u001b[0m\n\u001b[0;32m      4\u001b[0m \u001b[0magg_match\u001b[0m \u001b[1;33m=\u001b[0m \u001b[0magg_match\u001b[0m\u001b[1;33m.\u001b[0m\u001b[0mwithColumn\u001b[0m\u001b[1;33m(\u001b[0m\u001b[1;34m'year'\u001b[0m\u001b[1;33m,\u001b[0m \u001b[0myear\u001b[0m\u001b[1;33m(\u001b[0m\u001b[0magg_match\u001b[0m\u001b[1;33m[\u001b[0m\u001b[1;34m'date'\u001b[0m\u001b[1;33m]\u001b[0m\u001b[1;33m)\u001b[0m\u001b[1;33m)\u001b[0m\u001b[1;33m\u001b[0m\u001b[0m\n\u001b[1;32m----> 5\u001b[1;33m \u001b[0magg_match\u001b[0m \u001b[1;33m=\u001b[0m \u001b[0magg_match\u001b[0m\u001b[1;33m.\u001b[0m\u001b[0mwithColumn\u001b[0m\u001b[1;33m(\u001b[0m\u001b[1;34m'time'\u001b[0m\u001b[1;33m,\u001b[0m \u001b[0mtime\u001b[0m\u001b[1;33m(\u001b[0m\u001b[0magg_match\u001b[0m\u001b[1;33m[\u001b[0m\u001b[1;34m'date'\u001b[0m\u001b[1;33m]\u001b[0m\u001b[1;33m)\u001b[0m\u001b[1;33m)\u001b[0m\u001b[1;33m\u001b[0m\u001b[0m\n\u001b[0m",
      "\u001b[1;31mNameError\u001b[0m: name 'time' is not defined"
     ]
    }
   ],
   "source": [
    "from pyspark.sql.functions import month, year, hour, minute, second\n",
    "\n",
    "match = match.withColumn('month', month(match['date']))\n",
    "match = match.withColumn('year', year(match['date']))\n",
    "match = match.withColumn('time', time(match['date']))"
   ]
  },
  {
   "cell_type": "code",
   "execution_count": 149,
   "metadata": {},
   "outputs": [
    {
     "name": "stdout",
     "output_type": "stream",
     "text": [
      "+-------------------+---------+--------------------+----------+----------+--------------+-----------+------------------+------------------+----------+------------+-----------+-------------------+-------+--------------+-----+----+----+\n",
      "|               date|game_size|            match_id|match_mode|party_size|player_assists|player_dbno|  player_dist_ride|  player_dist_walk|player_dmg|player_kills|player_name|player_survive_time|team_id|team_placement|month|year|hour|\n",
      "+-------------------+---------+--------------------+----------+----------+--------------+-----------+------------------+------------------+----------+------------+-----------+-------------------+-------+--------------+-----+----+----+\n",
      "|2017-11-26 20:59:40|       37|2U4GBNA0YmnNZYkzj...|       tpp|         2|             0|          1|          2870.724|        1784.84778|       117|           1|   SnuffIes|            1106.32|      4|            18|   11|2017|  20|\n",
      "|2017-11-26 20:59:40|       37|2U4GBNA0YmnNZYkzj...|       tpp|         2|             0|          1|2938.4072300000003|1756.0797100000002|       127|           1|     Ozon3r|           1106.315|      4|            18|   11|2017|  20|\n",
      "|2017-11-26 20:59:40|       37|2U4GBNA0YmnNZYkzj...|       tpp|         2|             0|          0|               0.0|        224.157562|        67|           0|     bovize|            235.558|      5|            33|   11|2017|  20|\n",
      "+-------------------+---------+--------------------+----------+----------+--------------+-----------+------------------+------------------+----------+------------+-----------+-------------------+-------+--------------+-----+----+----+\n",
      "only showing top 3 rows\n",
      "\n"
     ]
    }
   ],
   "source": [
    "match.show(3)"
   ]
  },
  {
   "cell_type": "code",
   "execution_count": null,
   "metadata": {},
   "outputs": [],
   "source": [
    "#replace match_id with numeric id\n",
    "match_id = match.select(match.match_id).distinct()\n",
    "match_id_kill = kill.select('match_id').distinct()\n",
    "match_id = match_id.union(match_id_kill)\n",
    "match_id = match_id.withColumn('id',F.monotonically_increasing_id())\n",
    "match = match.join(match_id, on=['match_id'],how = 'left').drop('match_id')\n",
    "kill = kill.join(match_id, on=['match_id'],how = 'left').drop('match_id')"
   ]
  },
  {
   "cell_type": "markdown",
   "metadata": {},
   "source": [
    "## EDA\n",
    "#### Add killing distance to kill"
   ]
  },
  {
   "cell_type": "code",
   "execution_count": null,
   "metadata": {},
   "outputs": [],
   "source": [
    "kill = kill.withColumn('kill_distance',F.sqrt((kill.killer_position_x-kill.victim_position_x)**2+\n",
    "                                      (kill.killer_position_y-kill.victim_position_y)**2))"
   ]
  },
  {
   "cell_type": "markdown",
   "metadata": {},
   "source": [
    "Game time: more players and less waiting time / by match type\n"
   ]
  },
  {
   "cell_type": "code",
   "execution_count": null,
   "metadata": {},
   "outputs": [],
   "source": []
  },
  {
   "cell_type": "markdown",
   "metadata": {},
   "source": [
    "Average match time / by match type / party size\n"
   ]
  },
  {
   "cell_type": "code",
   "execution_count": null,
   "metadata": {},
   "outputs": [],
   "source": []
  },
  {
   "cell_type": "markdown",
   "metadata": {},
   "source": [
    "How many matches in the dataset  / by match type / party size"
   ]
  },
  {
   "cell_type": "code",
   "execution_count": 114,
   "metadata": {},
   "outputs": [],
   "source": [
    "match_map=kill.select(['map','id'])"
   ]
  },
  {
   "cell_type": "code",
   "execution_count": 115,
   "metadata": {},
   "outputs": [
    {
     "name": "stdout",
     "output_type": "stream",
     "text": [
      "+-------+--------------------+\n",
      "|    map|            match_id|\n",
      "+-------+--------------------+\n",
      "|MIRAMAR|2U4GBNA0YmnLSqvEy...|\n",
      "|MIRAMAR|2U4GBNA0YmnLSqvEy...|\n",
      "|MIRAMAR|2U4GBNA0YmnLSqvEy...|\n",
      "+-------+--------------------+\n",
      "only showing top 3 rows\n",
      "\n"
     ]
    }
   ],
   "source": [
    "match_map.show(3)"
   ]
  },
  {
   "cell_type": "code",
   "execution_count": 116,
   "metadata": {},
   "outputs": [],
   "source": [
    "match_joined = match.join(match_map, match['id'] == match_map['id'], how = 'left')"
   ]
  },
  {
   "cell_type": "code",
   "execution_count": 117,
   "metadata": {},
   "outputs": [
    {
     "name": "stdout",
     "output_type": "stream",
     "text": [
      "+--------------------+---------+----------+----------+--------------+-----------+----------------+----------------+----------+------------+-------------+-------------------+-------+--------------+-------+\n",
      "|                date|game_size|match_mode|party_size|player_assists|player_dbno|player_dist_ride|player_dist_walk|player_dmg|player_kills|  player_name|player_survive_time|team_id|team_placement|    map|\n",
      "+--------------------+---------+----------+----------+--------------+-----------+----------------+----------------+----------+------------+-------------+-------------------+-------+--------------+-------+\n",
      "|2017-12-30T19:06:...|       94|       tpp|         1|             0|          0|               0|       23.053623|      22.0|           0|JackFFFFFFFFF|            101.117| 100010|            87|ERANGEL|\n",
      "|2017-12-30T19:06:...|       94|       tpp|         1|             0|          0|               0|       23.053623|      22.0|           0|JackFFFFFFFFF|            101.117| 100010|            87|ERANGEL|\n",
      "|2017-12-30T19:06:...|       94|       tpp|         1|             0|          0|               0|       23.053623|      22.0|           0|JackFFFFFFFFF|            101.117| 100010|            87|ERANGEL|\n",
      "+--------------------+---------+----------+----------+--------------+-----------+----------------+----------------+----------+------------+-------------+-------------------+-------+--------------+-------+\n",
      "only showing top 3 rows\n",
      "\n"
     ]
    }
   ],
   "source": [
    "match_joined.show(3)"
   ]
  },
  {
   "cell_type": "code",
   "execution_count": 104,
   "metadata": {},
   "outputs": [
    {
     "name": "stdout",
     "output_type": "stream",
     "text": [
      "+-------+----------+---------+\n",
      "|    map|party_size|    count|\n",
      "+-------+----------+---------+\n",
      "|MIRAMAR|         4|111358780|\n",
      "|ERANGEL|         4|463783134|\n",
      "|ERANGEL|         1|220202880|\n",
      "|MIRAMAR|         2| 63433144|\n",
      "|ERANGEL|         2|335063305|\n",
      "|   null|         1|  1217315|\n",
      "|MIRAMAR|         1| 39025182|\n",
      "|   null|         4|  8230127|\n",
      "|   null|         2|  5616203|\n",
      "+-------+----------+---------+\n",
      "\n"
     ]
    }
   ],
   "source": [
    "match_joined.groupby('map','party_size').count().show()"
   ]
  },
  {
   "cell_type": "code",
   "execution_count": null,
   "metadata": {},
   "outputs": [],
   "source": []
  },
  {
   "cell_type": "markdown",
   "metadata": {},
   "source": [
    "Average distance walk/ride \n"
   ]
  },
  {
   "cell_type": "code",
   "execution_count": 118,
   "metadata": {},
   "outputs": [
    {
     "name": "stdout",
     "output_type": "stream",
     "text": [
      "+-------+----------+---------------------+\n",
      "|    map|party_size|avg(player_dist_walk)|\n",
      "+-------+----------+---------------------+\n",
      "|MIRAMAR|         4|    1410.742018224071|\n",
      "|ERANGEL|         4|   1355.8162957032268|\n",
      "|ERANGEL|         1|    1150.693641124211|\n",
      "|MIRAMAR|         2|   1276.2859497094053|\n",
      "|ERANGEL|         2|   1221.9183791044488|\n",
      "|   null|         1|   1022.9180469875213|\n",
      "|MIRAMAR|         1|   1182.2890436595835|\n",
      "|   null|         4|    1299.164686919216|\n",
      "|   null|         2|     1187.68092500758|\n",
      "+-------+----------+---------------------+\n",
      "\n"
     ]
    }
   ],
   "source": [
    "match_joined.groupby('map','party_size').avg('player_dist_walk').show()"
   ]
  },
  {
   "cell_type": "code",
   "execution_count": 119,
   "metadata": {},
   "outputs": [
    {
     "name": "stdout",
     "output_type": "stream",
     "text": [
      "+-------+----------+---------------------+\n",
      "|    map|party_size|avg(player_dist_ride)|\n",
      "+-------+----------+---------------------+\n",
      "|MIRAMAR|         4|   1052.4923974292822|\n",
      "|ERANGEL|         4|   1346.2549098260222|\n",
      "|ERANGEL|         1|     909.324541313901|\n",
      "|MIRAMAR|         2|    972.9549795766075|\n",
      "|ERANGEL|         2|    1176.657920711431|\n",
      "|   null|         1|    842.3804298805157|\n",
      "|MIRAMAR|         1|    744.0219518258749|\n",
      "|   null|         4|   1260.7400371829012|\n",
      "|   null|         2|   1100.2779096482088|\n",
      "+-------+----------+---------------------+\n",
      "\n"
     ]
    }
   ],
   "source": [
    "match_joined.groupby('map','party_size').avg('player_dist_ride').show()"
   ]
  },
  {
   "cell_type": "markdown",
   "metadata": {},
   "source": [
    "#### Team Stats\n",
    "team average survive time / team ranking by party size"
   ]
  },
  {
   "cell_type": "code",
   "execution_count": null,
   "metadata": {},
   "outputs": [],
   "source": [
    "match.filter(match.party_size == 4).groupby(['match_id','team_id']).\\\n",
    "    agg(F.avg('party_size'),F.avg('player_survive_time'),F.sum('player_kills'),F.avg('team_placement'),\\\n",
    "        F.avg('player_dist_ride'), F.avg('player_dist_walk')).\\\n",
    "    orderBy(['match_id','avg(player_survive_time)','avg(team_placement)'],ascending=[1,0,0]).show()"
   ]
  },
  {
   "cell_type": "markdown",
   "metadata": {},
   "source": [
    "#### Survival time distribution by group-size"
   ]
  },
  {
   "cell_type": "code",
   "execution_count": null,
   "metadata": {},
   "outputs": [],
   "source": [
    "df1 = match.sample(withReplacement = False, fraction = 0.005, seed=0).\\\n",
    "        join(kill.select('match_id','map'), match.match_id == kill.match_id, 'left').\\\n",
    "        select('player_survive_time','party_size','map').toPandas()"
   ]
  },
  {
   "cell_type": "code",
   "execution_count": null,
   "metadata": {},
   "outputs": [],
   "source": [
    "df1.shape"
   ]
  },
  {
   "cell_type": "code",
   "execution_count": null,
   "metadata": {},
   "outputs": [],
   "source": [
    "plt.figure(figsize=(10,8))\n",
    "plt.xlim(-0.1, 42)\n",
    "sns.distplot(df1[df1['party_size'] == 4]['player_survive_time']/60,hist=False, color = 'r')\n",
    "sns.distplot(df1[df1['party_size'] == 2]['player_survive_time']/60,hist=False, color = 'b')\n",
    "sns.distplot(df1[df1['party_size'] == 1]['player_survive_time']/60,hist=False)"
   ]
  },
  {
   "cell_type": "markdown",
   "metadata": {},
   "source": [
    "#### death position with in 4 minutes"
   ]
  },
  {
   "cell_type": "code",
   "execution_count": null,
   "metadata": {},
   "outputs": [],
   "source": [
    "import matplotlib.image as mpimg\n",
    "\n",
    "miramar_map = mpimg.imread('./miramar.jpg')\n",
    "erangel_map = mpimg.imread('./erangel.jpg')"
   ]
  },
  {
   "cell_type": "code",
   "execution_count": null,
   "metadata": {},
   "outputs": [],
   "source": [
    "erangel_map.shape"
   ]
  },
  {
   "cell_type": "code",
   "execution_count": null,
   "metadata": {},
   "outputs": [],
   "source": [
    "miramar_map.shape"
   ]
  },
  {
   "cell_type": "code",
   "execution_count": null,
   "metadata": {},
   "outputs": [],
   "source": [
    "#seperate two map\n",
    "miramar = kill.filter(kill.map == 'MIRAMAR')\n",
    "erangel = kill.filter(kill.map == 'ERANGEL')"
   ]
  },
  {
   "cell_type": "code",
   "execution_count": null,
   "metadata": {},
   "outputs": [],
   "source": [
    "db4_m = miramar.filter(miramar.time <= 240).select('victim_position_x','victim_position_y').toPandas()"
   ]
  },
  {
   "cell_type": "code",
   "execution_count": null,
   "metadata": {},
   "outputs": [],
   "source": [
    "from scipy.ndimage.filters import gaussian_filter\n",
    "import matplotlib.cm as cm\n",
    "from matplotlib.colors import Normalize\n",
    "import numpy as np\n",
    "\n",
    "def heatmap(x, y, s, bins=100):\n",
    "    heatmap, xedges, yedges = np.histogram2d(x, y, bins=bins)\n",
    "    heatmap = gaussian_filter(heatmap, sigma=s)\n",
    "\n",
    "    extent = [xedges[0], xedges[-1], yedges[0], yedges[-1]]\n",
    "    return heatmap.T, extent\n",
    "\n",
    "#bg = imread('../input/erangel.jpg')\n",
    "hmap, extent = heatmap(db4_m['victim_position_x']/800, db4_m['victim_position_y']/800, 3.5) #parameter 4.5??\n",
    "alphas = np.clip(Normalize(0, hmap.max(), clip=True)(hmap)*3.5, 0.0, 1.)\n",
    "colors = Normalize(0, hmap.max(), clip=True)(hmap)\n",
    "colors = cm.Reds(colors)\n",
    "colors[..., -1] = alphas\n",
    "\n",
    "fig, ax = plt.subplots(figsize=(12,12))\n",
    "ax.set_xlim(0, 1000); ax.set_ylim(0, 1000)\n",
    "ax.imshow(miramar_map)\n",
    "ax.imshow(colors, extent=extent, origin='lower', cmap=cm.Reds, alpha=0.9)\n",
    "#plt.scatter(plot_data_er[:,0], plot_data_er[:,1])\n",
    "plt.gca().invert_yaxis()"
   ]
  },
  {
   "cell_type": "markdown",
   "metadata": {},
   "source": [
    "#### death position in a single match"
   ]
  },
  {
   "cell_type": "code",
   "execution_count": null,
   "metadata": {},
   "outputs": [],
   "source": [
    "miramar.select('match_id').distinct().show(5,truncate=False)"
   ]
  },
  {
   "cell_type": "code",
   "execution_count": null,
   "metadata": {},
   "outputs": [],
   "source": [
    "match1 = miramar.filter(miramar.match_id == '2U4GBNA0Yml0XDizIVK4IxDWB75tIG-FBMzmyEP_fBUj1UAIBJN9VCG7X49NaJ0W').\\\n",
    "        orderBy('time',ascending=[1]).toPandas()"
   ]
  },
  {
   "cell_type": "code",
   "execution_count": null,
   "metadata": {},
   "outputs": [],
   "source": [
    "import matplotlib.animation as animation\n",
    "%matplotlib notebook\n",
    "\n",
    "#fig, ax = plt.subplots(figsize=(6,6))\n",
    "#ax.set_xlim(0, 1000) \n",
    "#ax.set_ylim(1000,0)\n",
    "\n",
    "\n",
    "fig = plt.figure(figsize=(6,6))\n",
    "plt.xlim(0, 1000)\n",
    "plt.ylim(1000, 0)\n",
    "\n",
    "def animate(i):\n",
    "    data = match1.iloc[:int(i+1),10:12]/800\n",
    "    #sns.scatterplot(x='victim_position_x', y='victim_position_y', data=data, palette = \"RdBu\")\n",
    "    plt.scatter(data['victim_position_x'],data['victim_position_y'],c='r',marker='x')\n",
    "    \n",
    "            \n",
    "ani = animation.FuncAnimation(fig,animate,frames = match1.shape[0],repeat=False)\n",
    "plt.imshow(miramar_map)\n",
    "plt.show()"
   ]
  }
 ],
 "metadata": {
  "kernelspec": {
   "display_name": "Python 3",
   "language": "python",
   "name": "python3"
  },
  "language_info": {
   "codemirror_mode": {
    "name": "ipython",
    "version": 3
   },
   "file_extension": ".py",
   "mimetype": "text/x-python",
   "name": "python",
   "nbconvert_exporter": "python",
   "pygments_lexer": "ipython3",
   "version": "3.7.1"
  }
 },
 "nbformat": 4,
 "nbformat_minor": 2
}
