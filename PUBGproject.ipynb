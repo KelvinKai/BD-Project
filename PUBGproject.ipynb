{
 "cells": [
  {
   "cell_type": "code",
   "execution_count": 3,
   "metadata": {},
   "outputs": [],
   "source": [
    "# import sys\n",
    "# del sys.modules['os']\n",
    "import warnings\n",
    "warnings.filterwarnings('ignore')\n",
    "import os \n",
    "os.chdir(\"C:\\\\Users\\\\chiehhsin\\\\Desktop\\\\_Uchicago\\\\_Big Data\\\\final project\\\\pubg\")"
   ]
  },
  {
   "cell_type": "code",
   "execution_count": 4,
   "metadata": {},
   "outputs": [
    {
     "data": {
      "text/plain": [
       "'C:\\\\Users\\\\chiehhsin\\\\Desktop\\\\_Uchicago\\\\_Big Data\\\\final project\\\\pubg'"
      ]
     },
     "execution_count": 4,
     "metadata": {},
     "output_type": "execute_result"
    }
   ],
   "source": [
    "os.getcwd()"
   ]
  },
  {
   "cell_type": "markdown",
   "metadata": {},
   "source": [
    "EDA：<br>\n",
    "Match based:(agg) <br>\n",
    "Kai\n",
    "- Game time: more players and less waiting time / by match type\n",
    "- Average match time / by match type / party size\n",
    "- How many matches in the dataset  / by match type / party size\n",
    "- Average distance walk/ride \n",
    "\n",
    "Sheena\n",
    "- team average survive time / team ranking\n",
    "- Survival time distribution\n",
    "- Death position for each match by time\n",
    "- 落地成盒 (death <4 min)\n",
    "\n",
    "`User based:` <br>\n",
    "JC\n",
    "- How many games, how many kills(agg)\n",
    "- Average survival time(join two tables)\n",
    "- Favorite weapon / map\n",
    "- Movement tracking ???\n"
   ]
  },
  {
   "cell_type": "code",
   "execution_count": 1,
   "metadata": {},
   "outputs": [
    {
     "name": "stdout",
     "output_type": "stream",
     "text": [
      "Requirement already satisfied: findspark in c:\\users\\chiehhsin\\appdata\\local\\continuum\\anaconda3\\lib\\site-packages (1.3.0)\n"
     ]
    }
   ],
   "source": [
    "# !pip install findspark\n",
    "# import findspark\n",
    "# findspark.init()"
   ]
  },
  {
   "cell_type": "code",
   "execution_count": 5,
   "metadata": {},
   "outputs": [],
   "source": [
    "import pandas as pd\n",
    "import pyspark\n",
    "from pyspark.sql import SparkSession \n",
    "from pyspark import SparkContext\n",
    "from pyspark.sql import functions as F\n",
    "from pyspark.sql import HiveContext"
   ]
  },
  {
   "cell_type": "code",
   "execution_count": 7,
   "metadata": {},
   "outputs": [],
   "source": [
    "spark = SparkSession.builder.enableHiveSupport().appName('ReadWriteData').getOrCreate()\n",
    "sc = spark.sparkContext"
   ]
  },
  {
   "cell_type": "code",
   "execution_count": 8,
   "metadata": {},
   "outputs": [
    {
     "name": "stdout",
     "output_type": "stream",
     "text": [
      "root\n",
      " |-- date: string (nullable = true)\n",
      " |-- game_size: integer (nullable = true)\n",
      " |-- match_id: string (nullable = true)\n",
      " |-- match_mode: string (nullable = true)\n",
      " |-- party_size: integer (nullable = true)\n",
      " |-- player_assists: integer (nullable = true)\n",
      " |-- player_dbno: integer (nullable = true)\n",
      " |-- player_dist_ride: double (nullable = true)\n",
      " |-- player_dist_walk: double (nullable = true)\n",
      " |-- player_dmg: integer (nullable = true)\n",
      " |-- player_kills: integer (nullable = true)\n",
      " |-- player_name: string (nullable = true)\n",
      " |-- player_survive_time: double (nullable = true)\n",
      " |-- team_id: integer (nullable = true)\n",
      " |-- team_placement: integer (nullable = true)\n",
      "\n"
     ]
    }
   ],
   "source": [
    "agg0 = spark.read.csv('agg/agg_match_stats_0.csv', inferSchema=True, header=True)\n",
    "agg1 = spark.read.csv('agg/agg_match_stats_1.csv', inferSchema=True, header=True)\n",
    "agg2 = spark.read.csv('agg/agg_match_stats_2.csv', inferSchema=True, header=True)\n",
    "agg3 = spark.read.csv('agg/agg_match_stats_3.csv', inferSchema=True, header=True)\n",
    "agg4 = spark.read.csv('agg/agg_match_stats_4.csv', inferSchema=True, header=True)\n",
    "agg0.printSchema()"
   ]
  },
  {
   "cell_type": "code",
   "execution_count": 10,
   "metadata": {},
   "outputs": [
    {
     "data": {
      "text/plain": [
       "13849287"
      ]
     },
     "execution_count": 10,
     "metadata": {},
     "output_type": "execute_result"
    }
   ],
   "source": [
    "agg0.count()"
   ]
  },
  {
   "cell_type": "code",
   "execution_count": 10,
   "metadata": {},
   "outputs": [],
   "source": [
    "aggr = agg0.union(agg1)\n",
    "aggr = aggr.union(agg2)\n",
    "aggr = aggr.union(agg3)\n",
    "aggr = aggr.union(agg4)"
   ]
  },
  {
   "cell_type": "code",
   "execution_count": 11,
   "metadata": {},
   "outputs": [
    {
     "data": {
      "text/plain": [
       "67369231"
      ]
     },
     "execution_count": 11,
     "metadata": {},
     "output_type": "execute_result"
    }
   ],
   "source": [
    "aggr.count()"
   ]
  },
  {
   "cell_type": "code",
   "execution_count": 12,
   "metadata": {},
   "outputs": [
    {
     "name": "stdout",
     "output_type": "stream",
     "text": [
      "root\n",
      " |-- date: string (nullable = true)\n",
      " |-- game_size: integer (nullable = true)\n",
      " |-- match_id: string (nullable = true)\n",
      " |-- match_mode: string (nullable = true)\n",
      " |-- party_size: integer (nullable = true)\n",
      " |-- player_assists: integer (nullable = true)\n",
      " |-- player_dbno: integer (nullable = true)\n",
      " |-- player_dist_ride: double (nullable = true)\n",
      " |-- player_dist_walk: double (nullable = true)\n",
      " |-- player_dmg: integer (nullable = true)\n",
      " |-- player_kills: integer (nullable = true)\n",
      " |-- player_name: string (nullable = true)\n",
      " |-- player_survive_time: double (nullable = true)\n",
      " |-- team_id: integer (nullable = true)\n",
      " |-- team_placement: integer (nullable = true)\n",
      "\n"
     ]
    }
   ],
   "source": [
    "aggr.printSchema()"
   ]
  },
  {
   "cell_type": "code",
   "execution_count": 23,
   "metadata": {},
   "outputs": [
    {
     "name": "stdout",
     "output_type": "stream",
     "text": [
      "root\n",
      " |-- killed_by: string (nullable = true)\n",
      " |-- killer_name: string (nullable = true)\n",
      " |-- killer_placement: double (nullable = true)\n",
      " |-- killer_position_x: double (nullable = true)\n",
      " |-- killer_position_y: double (nullable = true)\n",
      " |-- map: string (nullable = true)\n",
      " |-- match_id: string (nullable = true)\n",
      " |-- time: integer (nullable = true)\n",
      " |-- victim_name: string (nullable = true)\n",
      " |-- victim_placement: double (nullable = true)\n",
      " |-- victim_position_x: double (nullable = true)\n",
      " |-- victim_position_y: double (nullable = true)\n",
      "\n"
     ]
    }
   ],
   "source": [
    "kil0 = spark.read.csv('deaths/kill_match_stats_final_0.csv', inferSchema=True, header=True)\n",
    "kil1 = spark.read.csv('deaths/kill_match_stats_final_1.csv', inferSchema=True, header=True)\n",
    "kil2 = spark.read.csv('deaths/kill_match_stats_final_2.csv', inferSchema=True, header=True)\n",
    "kil3 = spark.read.csv('deaths/kill_match_stats_final_3.csv', inferSchema=True, header=True)\n",
    "kil4 = spark.read.csv('deaths/kill_match_stats_final_4.csv', inferSchema=True, header=True)\n",
    "kil0.printSchema()"
   ]
  },
  {
   "cell_type": "code",
   "execution_count": 57,
   "metadata": {},
   "outputs": [
    {
     "name": "stdout",
     "output_type": "stream",
     "text": [
      "+------------+----------------+----------------+-----------------+-----------------+-------+--------------------+----+---------------+----------------+-----------------+-----------------+\n",
      "|   killed_by|     killer_name|killer_placement|killer_position_x|killer_position_y|    map|            match_id|time|    victim_name|victim_placement|victim_position_x|victim_position_y|\n",
      "+------------+----------------+----------------+-----------------+-----------------+-------+--------------------+----+---------------+----------------+-----------------+-----------------+\n",
      "|     Grenade| KrazyPortuguese|             5.0|         657725.1|         146275.2|MIRAMAR|2U4GBNA0YmnLSqvEy...| 823|KrazyPortuguese|             5.0|         657725.1|         146275.2|\n",
      "|      SCAR-L|nide2Bxiaojiejie|            31.0|         93091.37|         722236.4|MIRAMAR|2U4GBNA0YmnLSqvEy...| 194|    X3evolution|            33.0|         92238.68|         723375.1|\n",
      "|        S686|        Ascholes|            43.0|         366921.4|         421623.9|MIRAMAR|2U4GBNA0YmnLSqvEy...| 103|        CtrlZee|            46.0|         367304.5|         421216.1|\n",
      "|Down and Out|      Weirdo7777|             9.0|         472014.2|         313274.8|MIRAMAR|2U4GBNA0YmnLSqvEy...|1018|      BlackDpre|            13.0|         476645.9|         316758.4|\n",
      "|        M416|       Solayuki1|             9.0|         473357.8|         318340.5|MIRAMAR|2U4GBNA0YmnLSqvEy...|1018|          Vjolt|            13.0|         473588.5|         318418.8|\n",
      "+------------+----------------+----------------+-----------------+-----------------+-------+--------------------+----+---------------+----------------+-----------------+-----------------+\n",
      "only showing top 5 rows\n",
      "\n"
     ]
    }
   ],
   "source": [
    "kil0.show(5)"
   ]
  },
  {
   "cell_type": "code",
   "execution_count": 22,
   "metadata": {},
   "outputs": [
    {
     "ename": "NameError",
     "evalue": "name 'kil0' is not defined",
     "output_type": "error",
     "traceback": [
      "\u001b[1;31m---------------------------------------------------------------------------\u001b[0m",
      "\u001b[1;31mNameError\u001b[0m                                 Traceback (most recent call last)",
      "\u001b[1;32m<ipython-input-22-fe30ce7151a8>\u001b[0m in \u001b[0;36m<module>\u001b[1;34m\u001b[0m\n\u001b[1;32m----> 1\u001b[1;33m \u001b[0mkill\u001b[0m \u001b[1;33m=\u001b[0m \u001b[0mkil0\u001b[0m\u001b[1;33m.\u001b[0m\u001b[0munion\u001b[0m\u001b[1;33m(\u001b[0m\u001b[0mkil1\u001b[0m\u001b[1;33m)\u001b[0m\u001b[1;33m\u001b[0m\u001b[1;33m\u001b[0m\u001b[0m\n\u001b[0m\u001b[0;32m      2\u001b[0m \u001b[0mkill\u001b[0m \u001b[1;33m=\u001b[0m \u001b[0mkill\u001b[0m\u001b[1;33m.\u001b[0m\u001b[0munion\u001b[0m\u001b[1;33m(\u001b[0m\u001b[0mkil2\u001b[0m\u001b[1;33m)\u001b[0m\u001b[1;33m\u001b[0m\u001b[1;33m\u001b[0m\u001b[0m\n\u001b[0;32m      3\u001b[0m \u001b[0mkill\u001b[0m \u001b[1;33m=\u001b[0m \u001b[0mkill\u001b[0m\u001b[1;33m.\u001b[0m\u001b[0munion\u001b[0m\u001b[1;33m(\u001b[0m\u001b[0mkil3\u001b[0m\u001b[1;33m)\u001b[0m\u001b[1;33m\u001b[0m\u001b[1;33m\u001b[0m\u001b[0m\n\u001b[0;32m      4\u001b[0m \u001b[0mkill\u001b[0m \u001b[1;33m=\u001b[0m \u001b[0mkill\u001b[0m\u001b[1;33m.\u001b[0m\u001b[0munion\u001b[0m\u001b[1;33m(\u001b[0m\u001b[0mkil4\u001b[0m\u001b[1;33m)\u001b[0m\u001b[1;33m\u001b[0m\u001b[1;33m\u001b[0m\u001b[0m\n",
      "\u001b[1;31mNameError\u001b[0m: name 'kil0' is not defined"
     ]
    }
   ],
   "source": [
    "kill = kil0.union(kil1)\n",
    "kill = kill.union(kil2)\n",
    "kill = kill.union(kil3)\n",
    "kill = kill.union(kil4)"
   ]
  },
  {
   "cell_type": "code",
   "execution_count": 13,
   "metadata": {},
   "outputs": [],
   "source": [
    "match_id = aggr.select('match_id').distinct()"
   ]
  },
  {
   "cell_type": "code",
   "execution_count": 21,
   "metadata": {},
   "outputs": [
    {
     "ename": "NameError",
     "evalue": "name 'kill' is not defined",
     "output_type": "error",
     "traceback": [
      "\u001b[1;31m---------------------------------------------------------------------------\u001b[0m",
      "\u001b[1;31mNameError\u001b[0m                                 Traceback (most recent call last)",
      "\u001b[1;32m<ipython-input-21-b3a0d2fdbe22>\u001b[0m in \u001b[0;36m<module>\u001b[1;34m\u001b[0m\n\u001b[1;32m----> 1\u001b[1;33m \u001b[0mmatch_id_kill\u001b[0m \u001b[1;33m=\u001b[0m \u001b[0mkill\u001b[0m\u001b[1;33m.\u001b[0m\u001b[0mselect\u001b[0m\u001b[1;33m(\u001b[0m\u001b[1;34m'match_id'\u001b[0m\u001b[1;33m)\u001b[0m\u001b[1;33m.\u001b[0m\u001b[0mdistinct\u001b[0m\u001b[1;33m(\u001b[0m\u001b[1;33m)\u001b[0m\u001b[1;33m\u001b[0m\u001b[1;33m\u001b[0m\u001b[0m\n\u001b[0m",
      "\u001b[1;31mNameError\u001b[0m: name 'kill' is not defined"
     ]
    }
   ],
   "source": [
    "match_id_kill = kill.select('match_id').distinct()\n",
    "match_id = match_id.union(match_id_kill)"
   ]
  },
  {
   "cell_type": "code",
   "execution_count": 15,
   "metadata": {},
   "outputs": [],
   "source": [
    "match_id  = match_id.withColumn(\"monotonically_increasing_id\", F.monotonically_increasing_id()) "
   ]
  },
  {
   "cell_type": "code",
   "execution_count": 16,
   "metadata": {},
   "outputs": [
    {
     "name": "stdout",
     "output_type": "stream",
     "text": [
      "+--------------------+---------------------------+\n",
      "|            match_id|monotonically_increasing_id|\n",
      "+--------------------+---------------------------+\n",
      "|2U4GBNA0Yml0XDizI...|                          0|\n",
      "|2U4GBNA0Ymmi_1k_l...|                          1|\n",
      "|2U4GBNA0Ymkk4WNxi...|                          2|\n",
      "|2U4GBNA0YmkjdRrCs...|                          3|\n",
      "|2U4GBNA0YmlZtWxn9...|                          4|\n",
      "|2U4GBNA0YmkkAIEnc...|                          5|\n",
      "|2U4GBNA0Yml8haOPf...|                          6|\n",
      "|2U4GBNA0Ymnu7BK9x...|                          7|\n",
      "|2U4GBNA0Ymnh6-KFA...|                          8|\n",
      "|2U4GBNA0Ymk4ggpim...|                          9|\n",
      "+--------------------+---------------------------+\n",
      "only showing top 10 rows\n",
      "\n"
     ]
    }
   ],
   "source": [
    "match_id.show(10)"
   ]
  },
  {
   "cell_type": "code",
   "execution_count": 19,
   "metadata": {},
   "outputs": [],
   "source": [
    "aggr_new = aggr.join(match_id, on=['match_id'], how='left').drop('match_id')"
   ]
  },
  {
   "cell_type": "code",
   "execution_count": 20,
   "metadata": {},
   "outputs": [
    {
     "name": "stdout",
     "output_type": "stream",
     "text": [
      "root\n",
      " |-- date: string (nullable = true)\n",
      " |-- game_size: integer (nullable = true)\n",
      " |-- match_mode: string (nullable = true)\n",
      " |-- party_size: integer (nullable = true)\n",
      " |-- player_assists: integer (nullable = true)\n",
      " |-- player_dbno: integer (nullable = true)\n",
      " |-- player_dist_ride: double (nullable = true)\n",
      " |-- player_dist_walk: double (nullable = true)\n",
      " |-- player_dmg: integer (nullable = true)\n",
      " |-- player_kills: integer (nullable = true)\n",
      " |-- player_name: string (nullable = true)\n",
      " |-- player_survive_time: double (nullable = true)\n",
      " |-- team_id: integer (nullable = true)\n",
      " |-- team_placement: integer (nullable = true)\n",
      " |-- monotonically_increasing_id: long (nullable = true)\n",
      "\n"
     ]
    }
   ],
   "source": [
    "aggr_new.printSchema()"
   ]
  }
 ],
 "metadata": {
  "kernelspec": {
   "display_name": "Python 3",
   "language": "python",
   "name": "python3"
  },
  "language_info": {
   "codemirror_mode": {
    "name": "ipython",
    "version": 3
   },
   "file_extension": ".py",
   "mimetype": "text/x-python",
   "name": "python",
   "nbconvert_exporter": "python",
   "pygments_lexer": "ipython3",
   "version": "3.7.4"
  }
 },
 "nbformat": 4,
 "nbformat_minor": 2
}
